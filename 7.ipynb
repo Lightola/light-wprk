{
  "nbformat": 4,
  "nbformat_minor": 0,
  "metadata": {
    "colab": {
      "provenance": [],
      "authorship_tag": "ABX9TyM8HWo1v68IUTOYffax0UYo",
      "include_colab_link": true
    },
    "kernelspec": {
      "name": "python3",
      "display_name": "Python 3"
    },
    "language_info": {
      "name": "python"
    }
  },
  "cells": [
    {
      "cell_type": "markdown",
      "metadata": {
        "id": "view-in-github",
        "colab_type": "text"
      },
      "source": [
        "<a href=\"https://colab.research.google.com/github/Lightola/light-wprk/blob/main/7.ipynb\" target=\"_parent\"><img src=\"https://colab.research.google.com/assets/colab-badge.svg\" alt=\"Open In Colab\"/></a>"
      ]
    },
    {
      "cell_type": "markdown",
      "source": [
        "#**Project 7 Airbnb price prediction and market analysis**"
      ],
      "metadata": {
        "id": "nWAfRSMpRREd"
      }
    },
    {
      "cell_type": "code",
      "execution_count": 1,
      "metadata": {
        "id": "fKI7JWHvRBA4"
      },
      "outputs": [],
      "source": [
        "import pandas as pd\n",
        "import numpy as np\n",
        "import matplotlib.pyplot as plt\n",
        "import seaborn as sns\n",
        "from sklearn.preprocessing import LabelEncoder\n",
        "from sklearn.model_selection import train_test_split\n",
        "from sklearn.ensemble import RandomForestRegressor\n",
        "from sklearn.metrics import mean_squared_error"
      ]
    },
    {
      "cell_type": "code",
      "source": [
        "#load the dataset\n",
        "df = pd.read_csv(\"/content/Airbnb_Open_Data.csv\",low_memory=False)"
      ],
      "metadata": {
        "id": "fJVylWWL-QKF"
      },
      "execution_count": 4,
      "outputs": []
    },
    {
      "cell_type": "code",
      "source": [
        "print(df.head())\n",
        "print(df.info())"
      ],
      "metadata": {
        "colab": {
          "base_uri": "https://localhost:8080/"
        },
        "id": "t7hsNGJR_opw",
        "outputId": "f9ec3d7a-f509-4d8c-e4fe-49990af6c192"
      },
      "execution_count": 5,
      "outputs": [
        {
          "output_type": "stream",
          "name": "stdout",
          "text": [
            "        id                                              NAME      host id  \\\n",
            "0  1001254                Clean & quiet apt home by the park  80014485718   \n",
            "1  1002102                             Skylit Midtown Castle  52335172823   \n",
            "2  1002403               THE VILLAGE OF HARLEM....NEW YORK !  78829239556   \n",
            "3  1002755                                               NaN  85098326012   \n",
            "4  1003689  Entire Apt: Spacious Studio/Loft by central park  92037596077   \n",
            "\n",
            "  host_identity_verified host name neighbourhood group neighbourhood  \\\n",
            "0            unconfirmed  Madaline            Brooklyn    Kensington   \n",
            "1               verified     Jenna           Manhattan       Midtown   \n",
            "2                    NaN     Elise           Manhattan        Harlem   \n",
            "3            unconfirmed     Garry            Brooklyn  Clinton Hill   \n",
            "4               verified    Lyndon           Manhattan   East Harlem   \n",
            "\n",
            "        lat      long        country  ... service fee minimum nights  \\\n",
            "0  40.64749 -73.97237  United States  ...       $193            10.0   \n",
            "1  40.75362 -73.98377  United States  ...        $28            30.0   \n",
            "2  40.80902 -73.94190  United States  ...       $124             3.0   \n",
            "3  40.68514 -73.95976  United States  ...        $74            30.0   \n",
            "4  40.79851 -73.94399  United States  ...        $41            10.0   \n",
            "\n",
            "  number of reviews last review  reviews per month review rate number  \\\n",
            "0               9.0  10/19/2021               0.21                4.0   \n",
            "1              45.0   5/21/2022               0.38                4.0   \n",
            "2               0.0         NaN                NaN                5.0   \n",
            "3             270.0    7/5/2019               4.64                4.0   \n",
            "4               9.0  11/19/2018               0.10                3.0   \n",
            "\n",
            "  calculated host listings count  availability 365  \\\n",
            "0                            6.0             286.0   \n",
            "1                            2.0             228.0   \n",
            "2                            1.0             352.0   \n",
            "3                            1.0             322.0   \n",
            "4                            1.0             289.0   \n",
            "\n",
            "                                         house_rules license  \n",
            "0  Clean up and treat the home the way you'd like...     NaN  \n",
            "1  Pet friendly but please confirm with me if the...     NaN  \n",
            "2  I encourage you to use my kitchen, cooking and...     NaN  \n",
            "3                                                NaN     NaN  \n",
            "4  Please no smoking in the house, porch or on th...     NaN  \n",
            "\n",
            "[5 rows x 26 columns]\n",
            "<class 'pandas.core.frame.DataFrame'>\n",
            "RangeIndex: 102599 entries, 0 to 102598\n",
            "Data columns (total 26 columns):\n",
            " #   Column                          Non-Null Count   Dtype  \n",
            "---  ------                          --------------   -----  \n",
            " 0   id                              102599 non-null  int64  \n",
            " 1   NAME                            102349 non-null  object \n",
            " 2   host id                         102599 non-null  int64  \n",
            " 3   host_identity_verified          102310 non-null  object \n",
            " 4   host name                       102193 non-null  object \n",
            " 5   neighbourhood group             102570 non-null  object \n",
            " 6   neighbourhood                   102583 non-null  object \n",
            " 7   lat                             102591 non-null  float64\n",
            " 8   long                            102591 non-null  float64\n",
            " 9   country                         102067 non-null  object \n",
            " 10  country code                    102468 non-null  object \n",
            " 11  instant_bookable                102494 non-null  object \n",
            " 12  cancellation_policy             102523 non-null  object \n",
            " 13  room type                       102599 non-null  object \n",
            " 14  Construction year               102385 non-null  float64\n",
            " 15  price                           102352 non-null  object \n",
            " 16  service fee                     102326 non-null  object \n",
            " 17  minimum nights                  102190 non-null  float64\n",
            " 18  number of reviews               102416 non-null  float64\n",
            " 19  last review                     86706 non-null   object \n",
            " 20  reviews per month               86720 non-null   float64\n",
            " 21  review rate number              102273 non-null  float64\n",
            " 22  calculated host listings count  102280 non-null  float64\n",
            " 23  availability 365                102151 non-null  float64\n",
            " 24  house_rules                     50468 non-null   object \n",
            " 25  license                         2 non-null       object \n",
            "dtypes: float64(9), int64(2), object(15)\n",
            "memory usage: 20.4+ MB\n",
            "None\n"
          ]
        }
      ]
    },
    {
      "cell_type": "code",
      "source": [
        "# Convert price and service fee to numeric\n",
        "df['price'] = df['price'].replace('[\\$,]', '', regex=True).astype(float)\n",
        "df['service fee'] = df['service fee'].replace('[\\$,]', '', regex=True).astype(float)"
      ],
      "metadata": {
        "id": "U_kDT2zAAuX-"
      },
      "execution_count": 6,
      "outputs": []
    },
    {
      "cell_type": "code",
      "source": [
        "print(df.info())"
      ],
      "metadata": {
        "colab": {
          "base_uri": "https://localhost:8080/"
        },
        "id": "zbCFc47yDjrG",
        "outputId": "caab91b2-2a1f-4155-b779-e9fb86565345"
      },
      "execution_count": 17,
      "outputs": [
        {
          "output_type": "stream",
          "name": "stdout",
          "text": [
            "<class 'pandas.core.frame.DataFrame'>\n",
            "Index: 101704 entries, 0 to 102598\n",
            "Data columns (total 24 columns):\n",
            " #   Column                          Non-Null Count   Dtype  \n",
            "---  ------                          --------------   -----  \n",
            " 0   id                              101704 non-null  float64\n",
            " 1   NAME                            101463 non-null  object \n",
            " 2   host id                         101704 non-null  float64\n",
            " 3   host_identity_verified          101430 non-null  object \n",
            " 4   host name                       101305 non-null  object \n",
            " 5   neighbourhood group             101677 non-null  object \n",
            " 6   neighbourhood                   101690 non-null  object \n",
            " 7   lat                             101696 non-null  float64\n",
            " 8   long                            101696 non-null  float64\n",
            " 9   country                         101177 non-null  object \n",
            " 10  country code                    101590 non-null  object \n",
            " 11  instant_bookable                101616 non-null  object \n",
            " 12  cancellation_policy             101633 non-null  object \n",
            " 13  room type                       101704 non-null  object \n",
            " 14  Construction year               101512 non-null  float64\n",
            " 15  price                           101704 non-null  float64\n",
            " 16  service fee                     101704 non-null  float64\n",
            " 17  minimum nights                  101704 non-null  float64\n",
            " 18  number of reviews               101704 non-null  float64\n",
            " 19  last review                     85925 non-null   object \n",
            " 20  reviews per month               101704 non-null  float64\n",
            " 21  review rate number              101704 non-null  float64\n",
            " 22  calculated host listings count  101704 non-null  float64\n",
            " 23  availability 365                101704 non-null  float64\n",
            "dtypes: float64(13), object(11)\n",
            "memory usage: 23.4+ MB\n",
            "None\n"
          ]
        }
      ]
    },
    {
      "cell_type": "code",
      "source": [
        "# Drop columns with more than 50% missing values\n",
        "threshold = len(df) * 0.5\n",
        "df = df.dropna(thresh=threshold, axis=1)\n",
        "\n",
        "# Fill missing values\n",
        "df.loc['reviews per month'] = df['reviews per month'].fillna(0)\n",
        "df.loc['number of reviews'] = df['number of reviews'].fillna(0)\n",
        "df.loc['review rate number'] = df['review rate number'].fillna(df['review rate number'].median())\n",
        "df.loc['calculated host listings count'] = df['calculated host listings count'].fillna(1)\n",
        "df.loc['availability 365'] = df['availability 365'].fillna(0)\n",
        "\n",
        "# Drop rows with missing values in critical columns\n",
        "df = df.dropna(subset=['price', 'service fee', 'minimum nights'])\n"
      ],
      "metadata": {
        "id": "mvZXMW6lAuMZ"
      },
      "execution_count": 9,
      "outputs": []
    },
    {
      "cell_type": "code",
      "source": [
        "print(df.shape)"
      ],
      "metadata": {
        "colab": {
          "base_uri": "https://localhost:8080/"
        },
        "id": "KTUVWENWD8t8",
        "outputId": "f38a692e-4885-4b75-e99f-d814929fcc5b"
      },
      "execution_count": 19,
      "outputs": [
        {
          "output_type": "stream",
          "name": "stdout",
          "text": [
            "(101704, 24)\n"
          ]
        }
      ]
    },
    {
      "cell_type": "code",
      "source": [
        "# Select key features\n",
        "features = [\n",
        "    'neighbourhood group', 'neighbourhood', 'room type', 'lat', 'long',\n",
        "    'minimum nights', 'number of reviews', 'reviews per month',\n",
        "    'review rate number', 'calculated host listings count', 'availability 365'\n",
        "]\n",
        "\n",
        "# Drop rows missing any of these\n",
        "df_model = df.dropna(subset=features + ['price'])\n"
      ],
      "metadata": {
        "id": "NuqeJFzmAuBi"
      },
      "execution_count": 10,
      "outputs": []
    },
    {
      "cell_type": "code",
      "source": [
        "# Encode categorical features\n",
        "encoded_df = df_model[features].copy()\n",
        "label_encoders = {}\n",
        "for col in ['neighbourhood group', 'neighbourhood', 'room type']:\n",
        "    le = LabelEncoder()\n",
        "    encoded_df[col] = le.fit_transform(encoded_df[col])\n",
        "    label_encoders[col] = le\n",
        "\n",
        "X = encoded_df\n",
        "y = df_model['price']"
      ],
      "metadata": {
        "id": "PljqLO3UAtzk"
      },
      "execution_count": 12,
      "outputs": []
    },
    {
      "cell_type": "code",
      "source": [
        "# Sample for performance\n",
        "sampled_df = df_model.sample(n=5000, random_state=42)\n",
        "encoded_sample = sampled_df[features].copy()"
      ],
      "metadata": {
        "id": "cTs8KgdYCnsh"
      },
      "execution_count": 13,
      "outputs": []
    },
    {
      "cell_type": "code",
      "source": [
        "# Apply the same encoders\n",
        "for col in ['neighbourhood group', 'neighbourhood', 'room type']:\n",
        "    encoded_sample[col] = label_encoders[col].transform(encoded_sample[col])\n",
        "\n",
        "X_sample = encoded_sample\n",
        "y_sample = sampled_df['price']"
      ],
      "metadata": {
        "id": "1c8Y8mmuCrit"
      },
      "execution_count": 14,
      "outputs": []
    },
    {
      "cell_type": "code",
      "source": [
        "# Split into train/test\n",
        "X_train, X_test, y_train, y_test = train_test_split(X_sample, y_sample, test_size=0.2, random_state=42)\n",
        "\n",
        "# Train Random Forest\n",
        "rf = RandomForestRegressor(n_estimators=100, random_state=42)\n",
        "rf.fit(X_train, y_train)\n",
        "\n",
        "# Predict and evaluate\n",
        "y_pred = rf.predict(X_test)\n",
        "rmse = np.sqrt(mean_squared_error(y_test, y_pred))\n",
        "print(f\"RMSE: {rmse}\")\n"
      ],
      "metadata": {
        "colab": {
          "base_uri": "https://localhost:8080/"
        },
        "id": "185mBW5mC7_m",
        "outputId": "20c03884-0527-4638-919e-aada7c65bb81"
      },
      "execution_count": 15,
      "outputs": [
        {
          "output_type": "stream",
          "name": "stdout",
          "text": [
            "RMSE: 335.7786161947416\n"
          ]
        }
      ]
    },
    {
      "cell_type": "code",
      "source": [
        "# Feature importance\n",
        "feature_importance = pd.Series(rf.feature_importances_, index=X_sample.columns).sort_values(ascending=False)\n",
        "\n",
        "# Plot\n",
        "plt.figure(figsize=(10, 6))\n",
        "sns.barplot(x=feature_importance, y=feature_importance.index)\n",
        "plt.title(\"Feature Importance - Airbnb Price Prediction\")\n",
        "plt.xlabel(\"Importance Score\")\n",
        "plt.tight_layout()\n",
        "plt.show()"
      ],
      "metadata": {
        "colab": {
          "base_uri": "https://localhost:8080/",
          "height": 578
        },
        "id": "Y06TL4woDeWa",
        "outputId": "fedd12f7-6a35-4133-8d94-8e8ff8df9084"
      },
      "execution_count": 16,
      "outputs": [
        {
          "output_type": "display_data",
          "data": {
            "text/plain": [
              "<Figure size 1000x600 with 1 Axes>"
            ],
            "image/png": "[encoded data removed]"
          },
          "metadata": {}
        }
      ]
    }
  ]
}
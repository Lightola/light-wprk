{
  "nbformat": 4,
  "nbformat_minor": 0,
  "metadata": {
    "colab": {
      "provenance": [],
      "authorship_tag": "ABX9TyMOohZ6LudVKMfwGjyC56iN",
      "include_colab_link": true
    },
    "kernelspec": {
      "name": "python3",
      "display_name": "Python 3"
    },
    "language_info": {
      "name": "python"
    }
  },
  "cells": [
    {
      "cell_type": "markdown",
      "metadata": {
        "id": "view-in-github",
        "colab_type": "text"
      },
      "source": [
        "<a href=\"https://colab.research.google.com/github/Lightola/light-wprk/blob/main/8.ipynb\" target=\"_parent\"><img src=\"https://colab.research.google.com/assets/colab-badge.svg\" alt=\"Open In Colab\"/></a>"
      ]
    },
    {
      "cell_type": "markdown",
      "source": [
        "#**project 8 IMDb Top 1000 dataset**"
      ],
      "metadata": {
        "id": "HLUCQCyuFuxH"
      }
    },
    {
      "cell_type": "code",
      "execution_count": 6,
      "metadata": {
        "id": "g2J3jYsnFccl"
      },
      "outputs": [],
      "source": [
        "import pandas as pd\n",
        "import numpy as np\n",
        "import matplotlib.pyplot as plt\n",
        "import seaborn as sns\n",
        "from sklearn.ensemble import RandomForestRegressor\n",
        "from sklearn.model_selection import train_test_split\n",
        "from sklearn.metrics import mean_squared_error\n",
        "from sklearn.preprocessing import LabelEncoder\n",
        "from sklearn.linear_model import LinearRegression\n",
        "from sklearn.metrics import mean_squared_error"
      ]
    },
    {
      "cell_type": "code",
      "source": [
        "#load dataset\n",
        "imdb_df = pd.read_csv(\"/content/imdb_top_1000.csv\")"
      ],
      "metadata": {
        "id": "sTSPFB8QGxbe"
      },
      "execution_count": 8,
      "outputs": []
    },
    {
      "cell_type": "code",
      "source": [
        "#Data Cleaning\n",
        "imdb_df.drop(columns=['Poster_Link', 'Overview'], inplace=True)\n",
        "\n",
        "def clean_runtime(runtime):\n",
        "  if isinstance(runtime, str):\n",
        "    return int(runtime.replace(\" min\", \"\"))\n",
        "  return np.nan\n",
        "\n",
        "imdb_df['Runtime'] = imdb_df['Runtime'].apply(clean_runtime)\n",
        "imdb_df['Released_Year'] = pd.to_numeric(imdb_df['Released_Year'], errors='coerce')\n",
        "imdb_df['Gross'] = imdb_df['Gross'].str.replace(',', '').astype(float)\n"
      ],
      "metadata": {
        "id": "KrGgCi1sHbhW"
      },
      "execution_count": 9,
      "outputs": []
    },
    {
      "cell_type": "code",
      "source": [
        "print(imdb_df.head())"
      ],
      "metadata": {
        "colab": {
          "base_uri": "https://localhost:8080/"
        },
        "id": "5hy4zg53H_-T",
        "outputId": "ff4273cf-bbb4-474a-f2e7-63811ffb5c08"
      },
      "execution_count": 10,
      "outputs": [
        {
          "output_type": "stream",
          "name": "stdout",
          "text": [
            "               Series_Title  Released_Year  ... No_of_Votes        Gross\n",
            "0  The Shawshank Redemption         1994.0  ...     2343110   28341469.0\n",
            "1             The Godfather         1972.0  ...     1620367  134966411.0\n",
            "2           The Dark Knight         2008.0  ...     2303232  534858444.0\n",
            "3    The Godfather: Part II         1974.0  ...     1129952   57300000.0\n",
            "4              12 Angry Men         1957.0  ...      689845    4360000.0\n",
            "\n",
            "[5 rows x 14 columns]\n"
          ]
        }
      ]
    },
    {
      "cell_type": "code",
      "source": [
        "#Handle missing values\n",
        "imdb_df['Certificate'] = imdb_df['Certificate'].fillna('Unknown')\n",
        "imdb_df['Meta_score'] = imdb_df['Meta_score'].fillna(imdb_df['Meta_score'].median())\n",
        "imdb_df['Gross'] = imdb_df['Gross'].fillna(imdb_df['Gross'].median())\n"
      ],
      "metadata": {
        "id": "__38pBtfH_uJ"
      },
      "execution_count": 11,
      "outputs": []
    },
    {
      "cell_type": "code",
      "source": [
        "#Encode categorical variables\n",
        "label_cols = ['Certificate', 'Genre', 'Director', 'Star1']\n",
        "label_encoders = {}\n",
        "for col in label_cols:\n",
        "  le = LabelEncoder()\n",
        "  imdb_df[col] = le.fit_transform(imdb_df[col])\n",
        "  label_encoders[col] = le\n"
      ],
      "metadata": {
        "id": "D_G-fuyCH_l5"
      },
      "execution_count": 12,
      "outputs": []
    },
    {
      "cell_type": "code",
      "source": [
        "#Select features and target\n",
        "features = ['Certificate', 'Released_Year', 'Runtime', 'Genre', 'Meta_score', 'Director', 'Star1', 'No_of_Votes', 'Gross']\n",
        "target = 'IMDB_Rating'\n",
        "\n",
        "X = imdb_df[features]\n",
        "y = imdb_df[target]\n",
        "\n",
        "#Train/test split\n",
        "X_train, X_test, y_train, y_test = train_test_split(X, y, test_size=0.2, random_state=42)\n"
      ],
      "metadata": {
        "id": "M_miYYQMH_Yu"
      },
      "execution_count": 13,
      "outputs": []
    },
    {
      "cell_type": "code",
      "source": [
        "#Model training\n",
        "model = RandomForestRegressor(n_estimators=100, random_state=42)\n",
        "model.fit(X_train, y_train)\n",
        "#Evaluation\n",
        "preds = model.predict(X_test)\n",
        "rmse = np.sqrt(mean_squared_error(y_test, preds))\n",
        "print(f\"RMSE: {rmse:.2f}\")"
      ],
      "metadata": {
        "colab": {
          "base_uri": "https://localhost:8080/"
        },
        "id": "umXw8-ZzVcNT",
        "outputId": "6a861f95-a294-4d3a-a635-de596b853b59"
      },
      "execution_count": 14,
      "outputs": [
        {
          "output_type": "stream",
          "name": "stdout",
          "text": [
            "RMSE: 0.19\n"
          ]
        }
      ]
    },
    {
      "cell_type": "code",
      "source": [
        "X_train = X_train.dropna()\n",
        "y_train = y_train.loc[X_train.index]\n",
        "#keep same indices\n",
        "X_test = X_test.dropna()\n",
        "y_test = y_test.loc[X_test.index]"
      ],
      "metadata": {
        "id": "HHPWbs-qb1kU"
      },
      "execution_count": 16,
      "outputs": []
    },
    {
      "cell_type": "code",
      "source": [
        "from sklearn.impute import SimpleImputer\n",
        "imputer = SimpleImputer(strategy='mean')\n",
        "X_train = imputer.fit_transform(X_train)\n",
        "X_test = imputer.transform(X_test)"
      ],
      "metadata": {
        "id": "AELt1SCpdX_q"
      },
      "execution_count": 17,
      "outputs": []
    },
    {
      "cell_type": "code",
      "source": [
        "model = LinearRegression()\n",
        "model.fit(X_train, y_train)\n",
        "#Evaluation\n",
        "preds = model.predict(X_test)\n",
        "rmse = np.sqrt(mean_squared_error(y_test, preds))\n",
        "print(f\"RMSE: {rmse:.2f}\")\n"
      ],
      "metadata": {
        "colab": {
          "base_uri": "https://localhost:8080/"
        },
        "id": "FWCOsiHjWIYJ",
        "outputId": "9df82091-1408-49aa-f5f6-268962dcbdf8"
      },
      "execution_count": 18,
      "outputs": [
        {
          "output_type": "stream",
          "name": "stdout",
          "text": [
            "RMSE: 0.21\n"
          ]
        }
      ]
    },
    {
      "cell_type": "code",
      "source": [
        "#Feature Importance\n",
        "importances = pd.Series(model.coef_,index=features).sort_values(ascending=False)\n",
        "plt.figure(figsize=(10,6))\n",
        "sns.barplot(x=importances, y=importances.index)\n",
        "plt.title(\"Feature Importance (Linear Regression Coeifficients)\")\n",
        "plt.show()\n",
        "\n",
        "#Insights\n",
        "print(\"\\nTop 5 most important features influencing IMDb ratings:\")\n",
        "print(importances.head())"
      ],
      "metadata": {
        "colab": {
          "base_uri": "https://localhost:8080/",
          "height": 703
        },
        "id": "_898NSQUXDWY",
        "outputId": "a6ca6420-c1b6-4411-e2e0-5255103706ab"
      },
      "execution_count": 20,
      "outputs": [
        {
          "output_type": "display_data",
          "data": {
            "text/plain": [
              "<Figure size 1000x600 with 1 Axes>"
            ],
            "image/png": "[encoded data removed]"
          },
          "metadata": {}
        },
        {
          "output_type": "stream",
          "name": "stdout",
          "text": [
            "\n",
            "Top 5 most important features influencing IMDb ratings:\n",
            "Certificate    0.004873\n",
            "Meta_score     0.004587\n",
            "Runtime        0.002042\n",
            "Genre          0.000179\n",
            "Star1          0.000055\n",
            "dtype: float64\n"
          ]
        }
      ]
    }
  ]
}